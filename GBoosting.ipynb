{
 "cells": [
  {
   "cell_type": "code",
   "execution_count": 281,
   "metadata": {},
   "outputs": [],
   "source": [
    "import numpy as np\n",
    "from sklearn.tree import DecisionTreeRegressor\n",
    "from sklearn.ensemble import GradientBoostingRegressor"
   ]
  },
  {
   "cell_type": "markdown",
   "metadata": {},
   "source": [
    "### Примеры функций потерь"
   ]
  },
  {
   "cell_type": "code",
   "execution_count": 283,
   "metadata": {},
   "outputs": [],
   "source": [
    "def mse(x0, x):\n",
    "    return (x0 - x) ** 2\n",
    "\n",
    "def absolute(x0, x):\n",
    "    return abs(x0 - x)"
   ]
  },
  {
   "cell_type": "markdown",
   "metadata": {},
   "source": [
    "### Класс градиентного бустинга.\n",
    "#### Используем деревья решений из sklearn"
   ]
  },
  {
   "cell_type": "code",
   "execution_count": 319,
   "metadata": {},
   "outputs": [],
   "source": [
    "class MyGradientBoosting():\n",
    "    def __init__(self, n_estimators = 100, learning_rate = 0.05, metric = None):\n",
    "        self.n_estimators = n_estimators\n",
    "        self.learning_rate = learning_rate\n",
    "        self.trees = []\n",
    "        self.metric = self.__mse if metric is None else metric\n",
    "        self.loss = []\n",
    "        \n",
    "    @staticmethod\n",
    "    def __mse(x0, x):\n",
    "        return (x0 - x) ** 2\n",
    "    \n",
    "    def __gradient(self, pred):\n",
    "        dx = 1e-12\n",
    "        return (self.metric(self.y, pred + dx) - self.metric(self.y, pred)) / dx\n",
    "    \n",
    "    def fit(self, X, y):\n",
    "        self.X = X\n",
    "        self.y = y\n",
    "        \n",
    "        r = self.y\n",
    "        for i in range(self.n_estimators):\n",
    "            tree = DecisionTreeRegressor(max_depth = 3)\n",
    "            tree.fit(X, r)\n",
    "            pred = tree.predict(X)\n",
    "            \n",
    "            self.trees.append(tree)\n",
    "            \n",
    "            if not i:\n",
    "                y_pred = pred\n",
    "            else:\n",
    "                y_pred += self.learning_rate * pred\n",
    "                self.loss.append(self.metric(self.y, y_pred).sum())\n",
    "            \n",
    "            r = -self.__gradient(y_pred)\n",
    "    \n",
    "    def predict(self, X):\n",
    "        pred = 0\n",
    "        for i in range(self.n_estimators):\n",
    "            pred += (self.learning_rate if i else 1) * self.trees[i].predict(X)\n",
    "        return pred"
   ]
  },
  {
   "cell_type": "markdown",
   "metadata": {},
   "source": [
    "### Создадим набор данных"
   ]
  },
  {
   "cell_type": "code",
   "execution_count": 293,
   "metadata": {
    "scrolled": true
   },
   "outputs": [],
   "source": [
    "X = np.random.randint(0, 10, (200, 2))\n",
    "y = X[:, 0] ** 2 + X[:, 1] ** 2 + (np.random.rand(200, 1)*3).reshape(200)"
   ]
  },
  {
   "cell_type": "markdown",
   "metadata": {},
   "source": [
    "### Создадим объект нашего класса и обучим на данных"
   ]
  },
  {
   "cell_type": "code",
   "execution_count": 320,
   "metadata": {
    "scrolled": true
   },
   "outputs": [
    {
     "name": "stdout",
     "output_type": "stream",
     "text": [
      "Ошибка MGB: 843.7307609680506\n"
     ]
    }
   ],
   "source": [
    "mgb = MyGradientBoosting(learning_rate=0.05, metric=mse)\n",
    "mgb.fit(X, y)\n",
    "pred = mgb.predict(X)\n",
    "\n",
    "print(f'Ошибка MGB: {mse(y, pred).sum()}')"
   ]
  },
  {
   "cell_type": "markdown",
   "metadata": {},
   "source": [
    "### Создадим класс из sklearn и сравним"
   ]
  },
  {
   "cell_type": "code",
   "execution_count": 304,
   "metadata": {},
   "outputs": [
    {
     "name": "stdout",
     "output_type": "stream",
     "text": [
      "Ошибка GBR: 476.6345117176032\n"
     ]
    }
   ],
   "source": [
    "gbr = GradientBoostingRegressor(learning_rate=0.05)\n",
    "gbr.fit(X, y)\n",
    "pred = gbr.predict(X)\n",
    "\n",
    "print(f'Ошибка GBR: {mse(y, pred).sum()}')"
   ]
  },
  {
   "cell_type": "markdown",
   "metadata": {},
   "source": [
    "### <u>Результат</u>: среднеквадратичная ошибка для модели из sklearn ниже, что ожидаемо, так как наша модель проще по функциональности"
   ]
  }
 ],
 "metadata": {
  "kernelspec": {
   "display_name": "Python 3",
   "language": "python",
   "name": "python3"
  },
  "language_info": {
   "codemirror_mode": {
    "name": "ipython",
    "version": 3
   },
   "file_extension": ".py",
   "mimetype": "text/x-python",
   "name": "python",
   "nbconvert_exporter": "python",
   "pygments_lexer": "ipython3",
   "version": "3.7.5"
  }
 },
 "nbformat": 4,
 "nbformat_minor": 4
}
